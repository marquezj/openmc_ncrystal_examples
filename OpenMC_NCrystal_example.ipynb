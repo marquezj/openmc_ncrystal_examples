{
 "cells": [
  {
   "cell_type": "code",
   "execution_count": null,
   "id": "867c9bf1",
   "metadata": {},
   "outputs": [],
   "source": [
    "%pip -q install ncrystal"
   ]
  },
  {
   "cell_type": "code",
   "execution_count": 1,
   "id": "0354af5a-fddd-44aa-953d-891179c5b056",
   "metadata": {},
   "outputs": [],
   "source": [
    "import NCrystal as NC\n",
    "import openmc\n",
    "import numpy as np\n",
    "import matplotlib.pyplot as plt"
   ]
  },
  {
   "cell_type": "code",
   "execution_count": 2,
   "id": "1774c2bc-2e1e-4b66-8c28-6d51ea964c7c",
   "metadata": {},
   "outputs": [],
   "source": [
    "openmc.config['cross_sections'] = '../data/endf-b7.1-hdf5/endfb-vii.1-hdf5/cross_sections.xml'"
   ]
  },
  {
   "cell_type": "code",
   "execution_count": 3,
   "id": "c83729c3-4328-4793-a408-4795ecd3a6c7",
   "metadata": {},
   "outputs": [],
   "source": [
    "m1 = openmc.Material.from_ncrystal('Polyethylene_CH2.ncmat')"
   ]
  },
  {
   "cell_type": "code",
   "execution_count": 4,
   "id": "737eccb4-c8be-467d-9252-34e610932263",
   "metadata": {},
   "outputs": [
    {
     "name": "stdout",
     "output_type": "stream",
     "text": [
      "Material\n",
      "\tID             =\t1\n",
      "\tName           =\t\n",
      "\tTemperature    =\t293.15\n",
      "\tDensity        =\t0.92 [g/cm3]\n",
      "\tVolume         =\tNone [cm^3]\n",
      "\tDepletable     =\tFalse\n",
      "\tS(a,b) Tables  \n",
      "\tNCrystal conf  =\tPolyethylene_CH2.ncmat\n",
      "\tNuclides       \n",
      "\tH1             =\t0.66656284   [ao]\n",
      "\tH2             =\t0.00010382666666666666 [ao]\n",
      "\tC0             =\t0.3333333333333333 [ao]\n",
      "\n"
     ]
    }
   ],
   "source": [
    "print(m1)"
   ]
  },
  {
   "cell_type": "code",
   "execution_count": 5,
   "id": "67bd8db0-36f1-45a4-b0ca-1c5c07479279",
   "metadata": {},
   "outputs": [],
   "source": [
    "sphere = openmc.Sphere(r=50, boundary_type='vacuum')\n",
    "cell1 = openmc.Cell(region=-sphere, fill=m1)\n",
    "geom = openmc.Geometry([cell1])"
   ]
  },
  {
   "cell_type": "code",
   "execution_count": 6,
   "id": "8946b5fd-e009-491f-8e95-a7211cdf5c25",
   "metadata": {},
   "outputs": [],
   "source": [
    "source = openmc.IndependentSource()\n",
    "source.energy = openmc.stats.Discrete([1e3], [1.0])\n",
    "\n",
    "settings = openmc.Settings()\n",
    "settings.source = source\n",
    "settings.run_mode = 'fixed source'\n",
    "settings.batches = 10\n",
    "settings.particles = 10000"
   ]
  },
  {
   "cell_type": "code",
   "execution_count": 7,
   "id": "9b2f94f9-7ac7-453c-bf0b-3892a24f8ea2",
   "metadata": {},
   "outputs": [],
   "source": [
    "tally1 = openmc.Tally()\n",
    "filter11 = openmc.CellFilter([cell1])\n",
    "filter12 = openmc.EnergyFilter(np.geomspace(1e-4,10,1000))\n",
    "tally1.scores = ['flux']\n",
    "tally1.name = 'spectrum'\n",
    "tally1.filters = [filter11, filter12]\n",
    "\n",
    "tallies = openmc.Tallies([tally1])"
   ]
  },
  {
   "cell_type": "code",
   "execution_count": 8,
   "id": "84ff0826-00e9-47a3-a5e3-3769d70c32b8",
   "metadata": {},
   "outputs": [],
   "source": [
    "model = openmc.model.Model(geometry=geom, settings=settings, tallies=tallies)"
   ]
  },
  {
   "cell_type": "code",
   "execution_count": 9,
   "id": "9bbfe06a-6e4e-439f-bcd6-01bea4db6c04",
   "metadata": {},
   "outputs": [
    {
     "name": "stdout",
     "output_type": "stream",
     "text": [
      "                                %%%%%%%%%%%%%%%\n",
      "                           %%%%%%%%%%%%%%%%%%%%%%%%\n",
      "                        %%%%%%%%%%%%%%%%%%%%%%%%%%%%%%\n",
      "                      %%%%%%%%%%%%%%%%%%%%%%%%%%%%%%%%%%\n",
      "                    %%%%%%%%%%%%%%%%%%%%%%%%%%%%%%%%%%%%%%\n",
      "                   %%%%%%%%%%%%%%%%%%%%%%%%%%%%%%%%%%%%%%%%\n",
      "                                    %%%%%%%%%%%%%%%%%%%%%%%%\n",
      "                                     %%%%%%%%%%%%%%%%%%%%%%%%\n",
      "                 ###############      %%%%%%%%%%%%%%%%%%%%%%%%\n",
      "                ##################     %%%%%%%%%%%%%%%%%%%%%%%\n",
      "                ###################     %%%%%%%%%%%%%%%%%%%%%%%\n",
      "                ####################     %%%%%%%%%%%%%%%%%%%%%%\n",
      "                #####################     %%%%%%%%%%%%%%%%%%%%%\n",
      "                ######################     %%%%%%%%%%%%%%%%%%%%\n",
      "                #######################     %%%%%%%%%%%%%%%%%%\n",
      "                 #######################     %%%%%%%%%%%%%%%%%\n",
      "                 ######################     %%%%%%%%%%%%%%%%%\n",
      "                  ####################     %%%%%%%%%%%%%%%%%\n",
      "                    #################     %%%%%%%%%%%%%%%%%\n",
      "                     ###############     %%%%%%%%%%%%%%%%\n",
      "                       ############     %%%%%%%%%%%%%%%\n",
      "                          ########     %%%%%%%%%%%%%%\n",
      "                                      %%%%%%%%%%%\n",
      "\n",
      "                 | The OpenMC Monte Carlo Code\n",
      "       Copyright | 2011-2024 MIT, UChicago Argonne LLC, and contributors\n",
      "         License | https://docs.openmc.org/en/latest/license.html\n",
      "         Version | 0.15.1-dev\n",
      "        Git SHA1 | 0ad003307a67e5eb6c161fed2f3c6b571649de79\n",
      "       Date/Time | 2024-07-29 14:27:21\n",
      "  OpenMP Threads | 8\n",
      "\n",
      " Reading model XML file 'model.xml' ...\n",
      " Reading cross sections XML file...\n",
      " NCrystal config string for material #1: 'Polyethylene_CH2.ncmat'\n",
      " Reading H1 from ../data/endf-b7.1-hdf5/endfb-vii.1-hdf5/neutron/H1.h5\n",
      " Reading H2 from ../data/endf-b7.1-hdf5/endfb-vii.1-hdf5/neutron/H2.h5\n",
      " Reading C0 from ../data/endf-b7.1-hdf5/endfb-vii.1-hdf5/neutron/C0.h5\n",
      " Minimum neutron data temperature: 294 K\n",
      " Maximum neutron data temperature: 294 K\n",
      " Preparing distributed cell instances...\n",
      " Writing summary.h5 file...\n",
      " Maximum neutron transport energy: 20000000 eV for H1\n",
      "\n",
      " ===============>     FIXED SOURCE TRANSPORT SIMULATION     <===============\n",
      "\n",
      " Simulating batch 1\n",
      " Simulating batch 2\n",
      " Simulating batch 3\n",
      " Simulating batch 4\n",
      " Simulating batch 5\n",
      " Simulating batch 6\n",
      " Simulating batch 7\n",
      " Simulating batch 8\n",
      " Simulating batch 9\n",
      " Simulating batch 10\n",
      " Creating state point statepoint.10.h5...\n",
      "\n",
      " =======================>     TIMING STATISTICS     <=======================\n",
      "\n",
      " Total time for initialization     = 3.7477e-01 seconds\n",
      "   Reading cross sections          = 1.1243e-02 seconds\n",
      " Total time in simulation          = 1.0739e+01 seconds\n",
      "   Time in transport only          = 1.0735e+01 seconds\n",
      "   Time in active batches          = 1.0739e+01 seconds\n",
      "   Time accumulating tallies       = 8.8585e-04 seconds\n",
      "   Time writing statepoints        = 1.5801e-03 seconds\n",
      " Total time for finalization       = 1.0877e-03 seconds\n",
      " Total time elapsed                = 1.1115e+01 seconds\n",
      " Calculation Rate (active)         = 9311.99 particles/second\n",
      "\n",
      " ============================>     RESULTS     <============================\n",
      "\n",
      " Leakage Fraction            = 0.00000 +/- 0.00000\n",
      "\n"
     ]
    },
    {
     "data": {
      "text/plain": [
       "PosixPath('/home/marquezj/work/software/openmc-ncrystal/test/statepoint.10.h5')"
      ]
     },
     "execution_count": 9,
     "metadata": {},
     "output_type": "execute_result"
    }
   ],
   "source": [
    "!rm summary.h5 statepoint.10.h5\n",
    "model.run()"
   ]
  },
  {
   "cell_type": "code",
   "execution_count": 10,
   "id": "acf49e6e-d026-4ea7-a462-49f199fae737",
   "metadata": {},
   "outputs": [],
   "source": [
    "sp = openmc.StatePoint('statepoint.10.h5')\n",
    "tally = sp.get_tally(name='spectrum')"
   ]
  },
  {
   "cell_type": "code",
   "execution_count": 11,
   "id": "cf450d6b-05af-47a4-afec-9b4429019667",
   "metadata": {},
   "outputs": [
    {
     "data": {
      "text/plain": [
       "Text(0, 0.5, 'Integrated neutron fluence [n*cm]')"
      ]
     },
     "execution_count": 11,
     "metadata": {},
     "output_type": "execute_result"
    },
    {
     "data": {
      "image/png": "[encoded data removed]",
      "text/plain": [
       "<Figure size 640x480 with 1 Axes>"
      ]
     },
     "metadata": {},
     "output_type": "display_data"
    }
   ],
   "source": [
    "df = tally.get_pandas_dataframe()\n",
    "phi_g = df['mean'].values\n",
    "E_g = df['energy high [eV]'].values\n",
    "plt.loglog(E_g, phi_g)\n",
    "plt.xlabel('Energy [eV}')\n",
    "plt.ylabel('Integrated neutron fluence [n*cm]')"
   ]
  },
  {
   "cell_type": "code",
   "execution_count": 12,
   "id": "3a187752-de92-4bf9-8495-b3ac806148bb",
   "metadata": {},
   "outputs": [
    {
     "name": "stdout",
     "output_type": "stream",
     "text": [
      "Get nuclear data...\n",
      "Write ENDF file tsl_H_in_CH2.endf...\n",
      "Write ENDF file tsl_C_in_CH2.endf...\n",
      "Files created:\n",
      "  tsl_H_in_CH2.endf\n",
      "  tsl_C_in_CH2.endf\n"
     ]
    }
   ],
   "source": [
    "!./ncrystal_ncmat2endf.py -n CH2 Polyethylene_CH2.ncmat -m '{\"C\":37, \"H\": 38}'"
   ]
  },
  {
   "cell_type": "code",
   "execution_count": 13,
   "id": "d47cd12c-8361-4558-a416-7e513d76d4c8",
   "metadata": {},
   "outputs": [],
   "source": [
    "txt = r'''#!/usr/bin/env bash\n",
    "\n",
    "echo 'H-1 XS from JEFF 3.3'\n",
    "rm  n_0125_1-H-1.zip\n",
    "wget --user-agent=\"Mozilla/5.0 (X11; Fedora; Linux x86_64; rv:52.0) Gecko/20100101 Firefox/52.0\" https://www-nds.iaea.org/public/download-endf/JEFF-3.3/n/n_0125_1-H-1.zip\n",
    "unzip -u n_0125_1-H-1.zip\n",
    "\n",
    "ln -sf n_0125_1-H-1.dat tape20\n",
    "\n",
    "ln -sf tsl_H_in_CH2.endf tape31\n",
    "\n",
    "cat>input <<EOF\n",
    "reconr\n",
    "20 22\n",
    " 'ENDF-6 tape for H-1 from JEFF-3.3'/\n",
    " 125 3/\n",
    " .001/\n",
    " 'ENDF-6 tape for H-1 from JEFF-3.3'/\n",
    " 'Processed by the NJOY nuclear data processing system'/\n",
    " 'see original JEFF-3.3 file for details of evaluation'/\n",
    " 0/\n",
    "broadr\n",
    "20 22 23\n",
    "125 1/\n",
    "0.001/\n",
    "293.6\n",
    "0/\n",
    "thermr\n",
    "31 23 41\n",
    "38 125 32 1 2 1 0 1 237  0 /\n",
    "293.6 /\n",
    "0.001 5.0/\n",
    "acer\n",
    "21 41 0 51 61 /\n",
    " 2  1  1  .00  0 /\n",
    "' Polyethylene'/\n",
    " 125 293.6 poly 1 /\n",
    " 1001 /\n",
    " 237 200 238 1 1 5.0 1\n",
    "acer / Plot ACE files \n",
    "0 51 62 62 63 64 / \n",
    "7 1 /\n",
    "' Polyethylene'/\n",
    "viewr / \n",
    "62 64 /\n",
    "stop\n",
    "stop\n",
    "EOF\n",
    "\n",
    "njoy < input\n",
    "\n",
    "sed -i s/filename/\"poly.ace\"/g tape61\n",
    "sed -i s/route/0/g tape61\n",
    "\n",
    "mv tape51 poly.ace \n",
    "mv tape61 poly.xsdir \n",
    "mv output poly.out\n",
    "mv tape64 mesi-005K.ps \n",
    "'''\n",
    "\n",
    "with open('proc.njoy', 'w') as f:\n",
    "    f.write(txt)\n",
    "!chmod +x proc.njoy"
   ]
  },
  {
   "cell_type": "code",
   "execution_count": 14,
   "id": "1863a52e-1013-47dd-90b0-ed1bbeea0914",
   "metadata": {},
   "outputs": [
    {
     "name": "stdout",
     "output_type": "stream",
     "text": [
      "H-1 XS from JEFF 3.3\n",
      "--2024-07-29 14:27:44--  https://www-nds.iaea.org/public/download-endf/JEFF-3.3/n/n_0125_1-H-1.zip\n",
      "Resolving www-nds.iaea.org (www-nds.iaea.org)... 104.20.49.185, 172.67.17.137, 104.20.50.185, ...\n",
      "Connecting to www-nds.iaea.org (www-nds.iaea.org)|104.20.49.185|:443... connected.\n",
      "HTTP request sent, awaiting response... 200 OK\n",
      "Length: 12665 (12K) [application/zip]\n",
      "Saving to: ‘n_0125_1-H-1.zip’\n",
      "\n",
      "n_0125_1-H-1.zip    100%[===================>]  12.37K  --.-KB/s    in 0.001s  \n",
      "\n",
      "2024-07-29 14:27:47 (19.3 MB/s) - ‘n_0125_1-H-1.zip’ saved [12665/12665]\n",
      "\n",
      "Archive:  n_0125_1-H-1.zip\n",
      "\n",
      " njoy 2016.76  03Jul24                                       07/29/24 14:27:47\n",
      " *****************************************************************************\n",
      "\n",
      " reconr...                                                                0.0s\n",
      "\n",
      " broadr...                                                                0.0s\n",
      "\n",
      " thermr...                                                                0.1s\n",
      "\n",
      " ***warning***sab contains numbers that are too small to represent on this machine.\n",
      " results may be bad for transfers larger than   11.132 ev.\n",
      "\n",
      " wrote thermal data for temp = 2.9360E+02                                19.9s\n",
      "\n",
      " acer...                                                                 20.0s\n",
      "\n",
      " acer...                                                                 22.7s\n",
      "\n",
      " viewr...                                                                23.8s\n",
      "                                                                         23.8s\n",
      " *****************************************************************************\n"
     ]
    }
   ],
   "source": [
    "!./proc.njoy"
   ]
  },
  {
   "cell_type": "code",
   "execution_count": 15,
   "id": "a274fa46-9fc8-428f-ba4f-0e5b7b8eac57",
   "metadata": {},
   "outputs": [],
   "source": [
    "!rm poly.h5\n",
    "data = openmc.data.ThermalScattering.from_ace('poly.ace')\n",
    "data.export_to_hdf5('poly.h5')"
   ]
  },
  {
   "cell_type": "code",
   "execution_count": 16,
   "id": "94c03441-4b81-47e3-8a8a-0403885c8085",
   "metadata": {},
   "outputs": [],
   "source": [
    "library = openmc.data.DataLibrary.from_xml(openmc.config['cross_sections'])\n",
    "library.remove_by_material('H_in_CH2')\n",
    "library.register_file('./poly.h5')\n",
    "library.export_to_xml('./cross_sections.xml')"
   ]
  },
  {
   "cell_type": "code",
   "execution_count": 17,
   "id": "28998e13-a8fd-4369-b6f5-b2ff6c21b34d",
   "metadata": {},
   "outputs": [],
   "source": [
    "openmc.config['cross_sections'] = './cross_sections.xml'"
   ]
  },
  {
   "cell_type": "code",
   "execution_count": 18,
   "id": "562010cc-1799-4cbe-81da-da48c48506af",
   "metadata": {},
   "outputs": [],
   "source": [
    "m2 = openmc.Material()\n",
    "m2.add_elements_from_formula('CH2')\n",
    "m2.add_s_alpha_beta('c_H_in_CH2')\n",
    "m2.set_density('g/cm3', 0.92)"
   ]
  },
  {
   "cell_type": "code",
   "execution_count": 19,
   "id": "045c9d87-e49f-4aba-944f-eb9ae6b6ae01",
   "metadata": {},
   "outputs": [
    {
     "name": "stdout",
     "output_type": "stream",
     "text": [
      "Material\n",
      "\tID             =\t2\n",
      "\tName           =\t\n",
      "\tTemperature    =\tNone\n",
      "\tDensity        =\t0.92 [g/cm3]\n",
      "\tVolume         =\tNone [cm^3]\n",
      "\tDepletable     =\tFalse\n",
      "\tS(a,b) Tables  \n",
      "\tS(a,b)         =\t('c_H_in_CH2', 1.0)\n",
      "\tNuclides       \n",
      "\tC0             =\t0.3333333333333333 [ao]\n",
      "\tH1             =\t0.66656284   [ao]\n",
      "\tH2             =\t0.00010382666666666666 [ao]\n",
      "\n"
     ]
    }
   ],
   "source": [
    "print(m2)"
   ]
  },
  {
   "cell_type": "code",
   "execution_count": 20,
   "id": "49ae1612-1c2b-4d5c-bfff-89b113fe49bb",
   "metadata": {},
   "outputs": [],
   "source": [
    "sphere = openmc.Sphere(r=50, boundary_type='vacuum')\n",
    "cell1 = openmc.Cell(region=-sphere, fill=m2)\n",
    "geom = openmc.Geometry([cell1])"
   ]
  },
  {
   "cell_type": "code",
   "execution_count": 21,
   "id": "4b5e83cb-5a74-4895-a4f8-e86e0b0e422e",
   "metadata": {},
   "outputs": [],
   "source": [
    "source = openmc.IndependentSource()\n",
    "source.energy = openmc.stats.Discrete([1e3], [1.0])\n",
    "\n",
    "settings = openmc.Settings()\n",
    "settings.source = source\n",
    "settings.run_mode = 'fixed source'\n",
    "settings.batches = 10\n",
    "settings.particles = 10000"
   ]
  },
  {
   "cell_type": "code",
   "execution_count": 22,
   "id": "14120677-034b-4b10-8854-4efd31e7aa2b",
   "metadata": {},
   "outputs": [],
   "source": [
    "tally1 = openmc.Tally()\n",
    "filter11 = openmc.CellFilter([cell1])\n",
    "filter12 = openmc.EnergyFilter(np.geomspace(1e-4,10,1000))\n",
    "tally1.scores = ['flux']\n",
    "tally1.name = 'spectrum'\n",
    "tally1.filters = [filter11, filter12]\n",
    "\n",
    "tallies = openmc.Tallies([tally1])"
   ]
  },
  {
   "cell_type": "code",
   "execution_count": 23,
   "id": "f7cafac5-2e13-42bb-a501-477a2f918e04",
   "metadata": {},
   "outputs": [],
   "source": [
    "model = openmc.model.Model(geometry=geom, settings=settings, tallies=tallies)"
   ]
  },
  {
   "cell_type": "code",
   "execution_count": 24,
   "id": "6470965f-3411-4827-b4b2-d54052062526",
   "metadata": {},
   "outputs": [
    {
     "name": "stdout",
     "output_type": "stream",
     "text": [
      "                                %%%%%%%%%%%%%%%\n",
      "                           %%%%%%%%%%%%%%%%%%%%%%%%\n",
      "                        %%%%%%%%%%%%%%%%%%%%%%%%%%%%%%\n",
      "                      %%%%%%%%%%%%%%%%%%%%%%%%%%%%%%%%%%\n",
      "                    %%%%%%%%%%%%%%%%%%%%%%%%%%%%%%%%%%%%%%\n",
      "                   %%%%%%%%%%%%%%%%%%%%%%%%%%%%%%%%%%%%%%%%\n",
      "                                    %%%%%%%%%%%%%%%%%%%%%%%%\n",
      "                                     %%%%%%%%%%%%%%%%%%%%%%%%\n",
      "                 ###############      %%%%%%%%%%%%%%%%%%%%%%%%\n",
      "                ##################     %%%%%%%%%%%%%%%%%%%%%%%\n",
      "                ###################     %%%%%%%%%%%%%%%%%%%%%%%\n",
      "                ####################     %%%%%%%%%%%%%%%%%%%%%%\n",
      "                #####################     %%%%%%%%%%%%%%%%%%%%%\n",
      "                ######################     %%%%%%%%%%%%%%%%%%%%\n",
      "                #######################     %%%%%%%%%%%%%%%%%%\n",
      "                 #######################     %%%%%%%%%%%%%%%%%\n",
      "                 ######################     %%%%%%%%%%%%%%%%%\n",
      "                  ####################     %%%%%%%%%%%%%%%%%\n",
      "                    #################     %%%%%%%%%%%%%%%%%\n",
      "                     ###############     %%%%%%%%%%%%%%%%\n",
      "                       ############     %%%%%%%%%%%%%%%\n",
      "                          ########     %%%%%%%%%%%%%%\n",
      "                                      %%%%%%%%%%%\n",
      "\n",
      "                 | The OpenMC Monte Carlo Code\n",
      "       Copyright | 2011-2024 MIT, UChicago Argonne LLC, and contributors\n",
      "         License | https://docs.openmc.org/en/latest/license.html\n",
      "         Version | 0.15.1-dev\n",
      "        Git SHA1 | 0ad003307a67e5eb6c161fed2f3c6b571649de79\n",
      "       Date/Time | 2024-07-29 14:28:12\n",
      "  OpenMP Threads | 8\n",
      "\n",
      " Reading model XML file 'model.xml' ...\n",
      " Reading cross sections XML file...\n",
      " Reading C0 from ./../data/endf-b7.1-hdf5/endfb-vii.1-hdf5/neutron/C0.h5\n",
      " Reading H1 from ./../data/endf-b7.1-hdf5/endfb-vii.1-hdf5/neutron/H1.h5\n",
      " Reading H2 from ./../data/endf-b7.1-hdf5/endfb-vii.1-hdf5/neutron/H2.h5\n",
      " Reading c_H_in_CH2 from\n",
      " ./../data/endf-b7.1-hdf5/endfb-vii.1-hdf5/neutron/c_H_in_CH2.h5\n",
      " Minimum neutron data temperature: 294 K\n",
      " Maximum neutron data temperature: 294 K\n",
      " Preparing distributed cell instances...\n",
      " Writing summary.h5 file...\n",
      " Maximum neutron transport energy: 20000000 eV for H1\n",
      "\n",
      " ===============>     FIXED SOURCE TRANSPORT SIMULATION     <===============\n",
      "\n",
      " Simulating batch 1\n",
      " Simulating batch 2\n",
      " Simulating batch 3\n",
      " Simulating batch 4\n",
      " Simulating batch 5\n",
      " Simulating batch 6\n",
      " Simulating batch 7\n",
      " Simulating batch 8\n",
      " Simulating batch 9\n",
      " Simulating batch 10\n",
      " Creating state point statepoint.10.h5...\n",
      "\n",
      " =======================>     TIMING STATISTICS     <=======================\n",
      "\n",
      " Total time for initialization     = 4.2638e-02 seconds\n",
      "   Reading cross sections          = 3.7047e-02 seconds\n",
      " Total time in simulation          = 1.7851e+00 seconds\n",
      "   Time in transport only          = 1.7826e+00 seconds\n",
      "   Time in active batches          = 1.7851e+00 seconds\n",
      "   Time accumulating tallies       = 5.7343e-04 seconds\n",
      "   Time writing statepoints        = 1.3157e-03 seconds\n",
      " Total time for finalization       = 1.0450e-03 seconds\n",
      " Total time elapsed                = 1.8290e+00 seconds\n",
      " Calculation Rate (active)         = 56020.2 particles/second\n",
      "\n",
      " ============================>     RESULTS     <============================\n",
      "\n",
      " Leakage Fraction            = 0.00000 +/- 0.00000\n",
      "\n"
     ]
    },
    {
     "data": {
      "text/plain": [
       "PosixPath('/home/marquezj/work/software/openmc-ncrystal/test/statepoint.10.h5')"
      ]
     },
     "execution_count": 24,
     "metadata": {},
     "output_type": "execute_result"
    }
   ],
   "source": [
    "!rm summary.h5 statepoint.10.h5\n",
    "model.run()"
   ]
  },
  {
   "cell_type": "code",
   "execution_count": 25,
   "id": "0fcf557d-6c9e-496a-b3f3-d1e00bfad50d",
   "metadata": {},
   "outputs": [],
   "source": [
    "sp = openmc.StatePoint('statepoint.10.h5')\n",
    "tally = sp.get_tally(name='spectrum')"
   ]
  },
  {
   "cell_type": "code",
   "execution_count": 27,
   "id": "062f78ef-3a43-4be9-8769-43b5bda276df",
   "metadata": {},
   "outputs": [
    {
     "data": {
      "text/plain": [
       "<matplotlib.legend.Legend at 0x7f799841a7e0>"
      ]
     },
     "execution_count": 27,
     "metadata": {},
     "output_type": "execute_result"
    },
    {
     "data": {
      "image/png": "[encoded data removed]",
      "text/plain": [
       "<Figure size 640x480 with 1 Axes>"
      ]
     },
     "metadata": {},
     "output_type": "display_data"
    }
   ],
   "source": [
    "df = tally.get_pandas_dataframe()\n",
    "phi_g2 = df['mean'].values\n",
    "E_g2 = df['energy high [eV]'].values\n",
    "plt.loglog(E_g, phi_g, label='NCrystal material')\n",
    "plt.loglog(E_g2, phi_g2, label='ACE file')\n",
    "plt.xlabel('Energy [eV}')\n",
    "plt.ylabel('Integrated neutron fluence [n*cm]')\n",
    "plt.legend()"
   ]
  },
  {
   "cell_type": "code",
   "execution_count": null,
   "id": "18323e0b-6441-42db-8af6-6def57061dca",
   "metadata": {},
   "outputs": [],
   "source": []
  }
 ],
 "metadata": {
  "kernelspec": {
   "display_name": "Python 3 (ipykernel)",
   "language": "python",
   "name": "python3"
  },
  "language_info": {
   "codemirror_mode": {
    "name": "ipython",
    "version": 3
   },
   "file_extension": ".py",
   "mimetype": "text/x-python",
   "name": "python",
   "nbconvert_exporter": "python",
   "pygments_lexer": "ipython3",
   "version": "3.12.4"
  }
 },
 "nbformat": 4,
 "nbformat_minor": 5
}
